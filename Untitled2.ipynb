{
  "nbformat": 4,
  "nbformat_minor": 0,
  "metadata": {
    "colab": {
      "name": "Untitled2.ipynb",
      "provenance": [],
      "collapsed_sections": [],
      "authorship_tag": "ABX9TyOq3IBzwiEI/Bh6KES1IDOO",
      "include_colab_link": true
    },
    "kernelspec": {
      "name": "python3",
      "display_name": "Python 3"
    },
    "language_info": {
      "name": "python"
    }
  },
  "cells": [
    {
      "cell_type": "markdown",
      "metadata": {
        "id": "view-in-github",
        "colab_type": "text"
      },
      "source": [
        "<a href=\"https://colab.research.google.com/github/aryansri07/Image-Classification-using-CNN/blob/main/Untitled2.ipynb\" target=\"_parent\"><img src=\"https://colab.research.google.com/assets/colab-badge.svg\" alt=\"Open In Colab\"/></a>"
      ]
    },
    {
      "cell_type": "code",
      "metadata": {
        "id": "pNFyZgtJ_dtb"
      },
      "source": [
        "import tensorflow as tf\n",
        "from tensorflow.keras import datasets, layers, models\n",
        "import matplotlib as plt\n",
        "import numpy as np \n",
        "import pandas as pd \n",
        "import os\n",
        "import matplotlib.pyplot as plt\n",
        "import cv2\n",
        "from keras.layers import Dense,Conv2D,Flatten,MaxPool2D,Dropout\n",
        "from keras.models import Sequential\n",
        "\n",
        "from sklearn.model_selection import train_test_split\n",
        "\n",
        "np.random.seed(1)"
      ],
      "execution_count": 3,
      "outputs": []
    },
    {
      "cell_type": "code",
      "metadata": {
        "colab": {
          "base_uri": "https://localhost:8080/",
          "height": 0
        },
        "id": "AC1qukVu_ecW",
        "outputId": "a41f1a74-0ecd-49e9-eaa4-c72faf9ca812"
      },
      "source": [
        "(X_train, y_train), (X_test,y_test) = datasets.cifar10.load_data()\n",
        "print(X_train.shape)"
      ],
      "execution_count": 4,
      "outputs": [
        {
          "output_type": "stream",
          "name": "stdout",
          "text": [
            "(50000, 32, 32, 3)\n"
          ]
        }
      ]
    },
    {
      "cell_type": "code",
      "metadata": {
        "colab": {
          "base_uri": "https://localhost:8080/",
          "height": 0
        },
        "id": "I9OlZhOa_o0E",
        "outputId": "1a4cb413-f8c0-4be3-c428-2c7cfee97747"
      },
      "source": [
        "print(y_test.shape)"
      ],
      "execution_count": 5,
      "outputs": [
        {
          "output_type": "stream",
          "name": "stdout",
          "text": [
            "(10000, 1)\n"
          ]
        }
      ]
    },
    {
      "cell_type": "code",
      "metadata": {
        "id": "MDOKSaBD_4wQ"
      },
      "source": [
        "# print(X_test)"
      ],
      "execution_count": 6,
      "outputs": []
    },
    {
      "cell_type": "code",
      "metadata": {
        "id": "l_IRn3fHAEPW"
      },
      "source": [
        "labels = [\"airplane\",\"automobile\",\"bird\",\"cat\",\"deer\",\"dog\",\"frog\",\"horse\",\"ship\",\"truck\"]\n"
      ],
      "execution_count": 7,
      "outputs": []
    },
    {
      "cell_type": "code",
      "metadata": {
        "id": "v42yASBJAa9c"
      },
      "source": [
        "y_test = y_test.reshape(-1,)\n",
        "y_train = y_train.reshape(-1,)\n"
      ],
      "execution_count": 8,
      "outputs": []
    },
    {
      "cell_type": "code",
      "metadata": {
        "colab": {
          "base_uri": "https://localhost:8080/",
          "height": 0
        },
        "id": "pLGpIH5_AftC",
        "outputId": "a8f9fa43-562e-4dd6-a29b-c7d84a42a70f"
      },
      "source": [
        "y_train[:10]"
      ],
      "execution_count": 9,
      "outputs": [
        {
          "output_type": "execute_result",
          "data": {
            "text/plain": [
              "array([6, 9, 9, 4, 1, 1, 2, 7, 8, 3], dtype=uint8)"
            ]
          },
          "metadata": {},
          "execution_count": 9
        }
      ]
    },
    {
      "cell_type": "code",
      "metadata": {
        "colab": {
          "base_uri": "https://localhost:8080/",
          "height": 0
        },
        "id": "kdbjiSgeAiLg",
        "outputId": "bd3dd26e-91ee-4276-dd3d-bcf0b9f49cea"
      },
      "source": [
        "print(X_train[0])"
      ],
      "execution_count": 10,
      "outputs": [
        {
          "output_type": "stream",
          "name": "stdout",
          "text": [
            "[[[ 59  62  63]\n",
            "  [ 43  46  45]\n",
            "  [ 50  48  43]\n",
            "  ...\n",
            "  [158 132 108]\n",
            "  [152 125 102]\n",
            "  [148 124 103]]\n",
            "\n",
            " [[ 16  20  20]\n",
            "  [  0   0   0]\n",
            "  [ 18   8   0]\n",
            "  ...\n",
            "  [123  88  55]\n",
            "  [119  83  50]\n",
            "  [122  87  57]]\n",
            "\n",
            " [[ 25  24  21]\n",
            "  [ 16   7   0]\n",
            "  [ 49  27   8]\n",
            "  ...\n",
            "  [118  84  50]\n",
            "  [120  84  50]\n",
            "  [109  73  42]]\n",
            "\n",
            " ...\n",
            "\n",
            " [[208 170  96]\n",
            "  [201 153  34]\n",
            "  [198 161  26]\n",
            "  ...\n",
            "  [160 133  70]\n",
            "  [ 56  31   7]\n",
            "  [ 53  34  20]]\n",
            "\n",
            " [[180 139  96]\n",
            "  [173 123  42]\n",
            "  [186 144  30]\n",
            "  ...\n",
            "  [184 148  94]\n",
            "  [ 97  62  34]\n",
            "  [ 83  53  34]]\n",
            "\n",
            " [[177 144 116]\n",
            "  [168 129  94]\n",
            "  [179 142  87]\n",
            "  ...\n",
            "  [216 184 140]\n",
            "  [151 118  84]\n",
            "  [123  92  72]]]\n"
          ]
        }
      ]
    },
    {
      "cell_type": "code",
      "metadata": {
        "id": "-ZBY1BfLAnsH"
      },
      "source": [
        "def imgshow(X,index) :\n",
        "  plt.imshow(X[index])\n",
        "  plt.show()\n"
      ],
      "execution_count": 11,
      "outputs": []
    },
    {
      "cell_type": "code",
      "metadata": {
        "colab": {
          "base_uri": "https://localhost:8080/",
          "height": 266
        },
        "id": "QkNoUlkpFY9K",
        "outputId": "59742c07-19a2-43ee-fdd9-cc4dcd3857cb"
      },
      "source": [
        "imgshow(X_train,30000)"
      ],
      "execution_count": 12,
      "outputs": [
        {
          "output_type": "display_data",
          "data": {
            "image/png": "[encoded data removed]",
            "text/plain": [
              "<Figure size 432x288 with 1 Axes>"
            ]
          },
          "metadata": {
            "needs_background": "light"
          }
        }
      ]
    },
    {
      "cell_type": "code",
      "metadata": {
        "id": "FZ2fzDoaHurd"
      },
      "source": [
        "X_train = X_train/255;\n",
        "X_test = X_test/255;"
      ],
      "execution_count": 13,
      "outputs": []
    },
    {
      "cell_type": "code",
      "metadata": {
        "colab": {
          "base_uri": "https://localhost:8080/",
          "height": 0
        },
        "id": "6E0yhEClILIX",
        "outputId": "64298518-cf0d-498a-fde7-7fe75f58dc6b"
      },
      "source": [
        "X_train[1]"
      ],
      "execution_count": 14,
      "outputs": [
        {
          "output_type": "execute_result",
          "data": {
            "text/plain": [
              "array([[[0.60392157, 0.69411765, 0.73333333],\n",
              "        [0.49411765, 0.5372549 , 0.53333333],\n",
              "        [0.41176471, 0.40784314, 0.37254902],\n",
              "        ...,\n",
              "        [0.35686275, 0.37254902, 0.27843137],\n",
              "        [0.34117647, 0.35294118, 0.27843137],\n",
              "        [0.30980392, 0.31764706, 0.2745098 ]],\n",
              "\n",
              "       [[0.54901961, 0.62745098, 0.6627451 ],\n",
              "        [0.56862745, 0.6       , 0.60392157],\n",
              "        [0.49019608, 0.49019608, 0.4627451 ],\n",
              "        ...,\n",
              "        [0.37647059, 0.38823529, 0.30588235],\n",
              "        [0.30196078, 0.31372549, 0.24313725],\n",
              "        [0.27843137, 0.28627451, 0.23921569]],\n",
              "\n",
              "       [[0.54901961, 0.60784314, 0.64313725],\n",
              "        [0.54509804, 0.57254902, 0.58431373],\n",
              "        [0.45098039, 0.45098039, 0.43921569],\n",
              "        ...,\n",
              "        [0.30980392, 0.32156863, 0.25098039],\n",
              "        [0.26666667, 0.2745098 , 0.21568627],\n",
              "        [0.2627451 , 0.27058824, 0.21568627]],\n",
              "\n",
              "       ...,\n",
              "\n",
              "       [[0.68627451, 0.65490196, 0.65098039],\n",
              "        [0.61176471, 0.60392157, 0.62745098],\n",
              "        [0.60392157, 0.62745098, 0.66666667],\n",
              "        ...,\n",
              "        [0.16470588, 0.13333333, 0.14117647],\n",
              "        [0.23921569, 0.20784314, 0.22352941],\n",
              "        [0.36470588, 0.3254902 , 0.35686275]],\n",
              "\n",
              "       [[0.64705882, 0.60392157, 0.50196078],\n",
              "        [0.61176471, 0.59607843, 0.50980392],\n",
              "        [0.62352941, 0.63137255, 0.55686275],\n",
              "        ...,\n",
              "        [0.40392157, 0.36470588, 0.37647059],\n",
              "        [0.48235294, 0.44705882, 0.47058824],\n",
              "        [0.51372549, 0.4745098 , 0.51372549]],\n",
              "\n",
              "       [[0.63921569, 0.58039216, 0.47058824],\n",
              "        [0.61960784, 0.58039216, 0.47843137],\n",
              "        [0.63921569, 0.61176471, 0.52156863],\n",
              "        ...,\n",
              "        [0.56078431, 0.52156863, 0.54509804],\n",
              "        [0.56078431, 0.5254902 , 0.55686275],\n",
              "        [0.56078431, 0.52156863, 0.56470588]]])"
            ]
          },
          "metadata": {},
          "execution_count": 14
        }
      ]
    },
    {
      "cell_type": "code",
      "metadata": {
        "colab": {
          "base_uri": "https://localhost:8080/",
          "height": 0
        },
        "id": "cKmMliL8LF_e",
        "outputId": "89856787-9b33-4740-922c-00153723c1ce"
      },
      "source": [
        "\n",
        "cnn = models.Sequential([\n",
        "    layers.Conv2D(filters=32, kernel_size=(3, 3), padding='same',activation='relu', input_shape=(32, 32, 3)),\n",
        "    layers.MaxPooling2D((2, 2)),\n",
        "    \n",
        "    layers.Conv2D(filters=64, kernel_size=(3, 3), padding='same', activation='relu'),\n",
        "    layers.MaxPooling2D((2, 2)),\n",
        "\n",
        "    layers.Conv2D(filters=80, kernel_size=(3, 3), padding='same', activation='relu'),\n",
        "    layers.MaxPooling2D((2, 2)),\n",
        "    \n",
        "    layers.Dropout(0.25),\n",
        "\n",
        "    layers.Flatten(),\n",
        "    layers.Dense(80, activation='relu'),\n",
        "    layers.Dense(10, activation='softmax')\n",
        "])\n",
        "\n",
        "cnn.compile(optimizer='adam',\n",
        "              loss='sparse_categorical_crossentropy',\n",
        "              metrics=['accuracy'])\n",
        "\n",
        "cnn.fit(X_train, y_train, epochs=20,  batch_size=100)\n"
      ],
      "execution_count": 18,
      "outputs": [
        {
          "output_type": "stream",
          "name": "stdout",
          "text": [
            "Epoch 1/20\n",
            "500/500 [==============================] - 88s 174ms/step - loss: 1.5651 - accuracy: 0.4341\n",
            "Epoch 2/20\n",
            "500/500 [==============================] - 87s 173ms/step - loss: 1.1720 - accuracy: 0.5869\n",
            "Epoch 3/20\n",
            "500/500 [==============================] - 87s 174ms/step - loss: 1.0035 - accuracy: 0.6493\n",
            "Epoch 4/20\n",
            "500/500 [==============================] - 87s 173ms/step - loss: 0.9065 - accuracy: 0.6827\n",
            "Epoch 5/20\n",
            "500/500 [==============================] - 87s 173ms/step - loss: 0.8383 - accuracy: 0.7094\n",
            "Epoch 6/20\n",
            "500/500 [==============================] - 87s 174ms/step - loss: 0.7780 - accuracy: 0.7289\n",
            "Epoch 7/20\n",
            "500/500 [==============================] - 87s 174ms/step - loss: 0.7285 - accuracy: 0.7470\n",
            "Epoch 8/20\n",
            "500/500 [==============================] - 86s 173ms/step - loss: 0.6937 - accuracy: 0.7585\n",
            "Epoch 9/20\n",
            "500/500 [==============================] - 86s 173ms/step - loss: 0.6516 - accuracy: 0.7711\n",
            "Epoch 10/20\n",
            "500/500 [==============================] - 86s 173ms/step - loss: 0.6140 - accuracy: 0.7848\n",
            "Epoch 11/20\n",
            "500/500 [==============================] - 86s 172ms/step - loss: 0.5917 - accuracy: 0.7904\n",
            "Epoch 12/20\n",
            "500/500 [==============================] - 86s 172ms/step - loss: 0.5613 - accuracy: 0.8011\n",
            "Epoch 13/20\n",
            "500/500 [==============================] - 86s 172ms/step - loss: 0.5422 - accuracy: 0.8078\n",
            "Epoch 14/20\n",
            "500/500 [==============================] - 86s 173ms/step - loss: 0.5046 - accuracy: 0.8222\n",
            "Epoch 15/20\n",
            "500/500 [==============================] - 86s 172ms/step - loss: 0.4885 - accuracy: 0.8264\n",
            "Epoch 16/20\n",
            "500/500 [==============================] - 86s 172ms/step - loss: 0.4649 - accuracy: 0.8354\n",
            "Epoch 17/20\n",
            "500/500 [==============================] - 86s 172ms/step - loss: 0.4398 - accuracy: 0.8443\n",
            "Epoch 18/20\n",
            "500/500 [==============================] - 86s 172ms/step - loss: 0.4296 - accuracy: 0.8467\n",
            "Epoch 19/20\n",
            "500/500 [==============================] - 86s 173ms/step - loss: 0.4066 - accuracy: 0.8556\n",
            "Epoch 20/20\n",
            "500/500 [==============================] - 86s 172ms/step - loss: 0.3918 - accuracy: 0.8595\n"
          ]
        },
        {
          "output_type": "execute_result",
          "data": {
            "text/plain": [
              "<keras.callbacks.History at 0x7faf32112150>"
            ]
          },
          "metadata": {},
          "execution_count": 18
        }
      ]
    },
    {
      "cell_type": "code",
      "metadata": {
        "colab": {
          "base_uri": "https://localhost:8080/",
          "height": 0
        },
        "id": "tX0VnHgLMG5o",
        "outputId": "816809b2-49f9-429e-fb66-0808da90d1b1"
      },
      "source": [
        "cnn.evaluate(X_test,y_test)\n"
      ],
      "execution_count": 19,
      "outputs": [
        {
          "output_type": "stream",
          "name": "stdout",
          "text": [
            "313/313 [==============================] - 5s 17ms/step - loss: 0.7380 - accuracy: 0.7684\n"
          ]
        },
        {
          "output_type": "execute_result",
          "data": {
            "text/plain": [
              "[0.7379673719406128, 0.7684000134468079]"
            ]
          },
          "metadata": {},
          "execution_count": 19
        }
      ]
    },
    {
      "cell_type": "code",
      "metadata": {
        "id": "850D96Z2OPpa"
      },
      "source": [
        "y_pred = cnn.predict(X_test)"
      ],
      "execution_count": 20,
      "outputs": []
    },
    {
      "cell_type": "code",
      "metadata": {
        "colab": {
          "base_uri": "https://localhost:8080/"
        },
        "id": "wpRfW1kp7TQj",
        "outputId": "91edebbb-bf39-4f7f-b1c4-3328352b9ed6"
      },
      "source": [
        "y_pred[:5]\n"
      ],
      "execution_count": 21,
      "outputs": [
        {
          "output_type": "execute_result",
          "data": {
            "text/plain": [
              "array([[8.20288842e-04, 3.65322153e-03, 1.09475564e-04, 4.10479397e-01,\n",
              "        8.47538286e-06, 5.83842456e-01, 1.23963488e-04, 2.27885721e-06,\n",
              "        8.36571329e-04, 1.23883248e-04],\n",
              "       [3.22786102e-04, 6.51044538e-03, 1.03383631e-08, 6.35883239e-08,\n",
              "        9.10753861e-10, 5.15766110e-11, 6.16905069e-11, 1.43400555e-10,\n",
              "        9.93124068e-01, 4.25722064e-05],\n",
              "       [1.33526057e-01, 1.91171899e-01, 2.32375623e-03, 6.69404212e-03,\n",
              "        6.54909119e-04, 1.38989184e-04, 8.87161150e-05, 1.43796460e-05,\n",
              "        6.55109346e-01, 1.02779251e-02],\n",
              "       [9.04992878e-01, 5.43483438e-05, 6.80509210e-03, 8.47105286e-04,\n",
              "        1.30503089e-03, 8.37200162e-07, 3.42241015e-06, 4.45040236e-08,\n",
              "        8.56119394e-02, 3.79213248e-04],\n",
              "       [2.00477928e-08, 5.14655426e-07, 2.89623626e-03, 4.42811113e-04,\n",
              "        1.03308387e-01, 6.26004464e-07, 8.93351316e-01, 3.77724851e-10,\n",
              "        2.62201899e-10, 1.32816325e-07]], dtype=float32)"
            ]
          },
          "metadata": {},
          "execution_count": 21
        }
      ]
    },
    {
      "cell_type": "code",
      "metadata": {
        "id": "Y6ZXLO1V7i1c"
      },
      "source": [
        ""
      ],
      "execution_count": null,
      "outputs": []
    }
  ]
}